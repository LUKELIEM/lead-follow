{
 "cells": [
  {
   "cell_type": "markdown",
   "metadata": {},
   "source": [
    "# Device-independent Models\n",
    "\n",
    "This notebook attempts to fix the problem of GPU-trained agent models not loadable on CPU-only laptops."
   ]
  },
  {
   "cell_type": "code",
   "execution_count": 1,
   "metadata": {},
   "outputs": [
    {
     "name": "stdout",
     "output_type": "stream",
     "text": [
      "Python version:  3.6.4\n",
      "Pytorch version: 0.4.1.post2\n",
      "OpenAI Gym version: 0.9.2\n"
     ]
    }
   ],
   "source": [
    "import os\n",
    "import random\n",
    "import time\n",
    "import platform\n",
    "import torch\n",
    "import gym\n",
    "import numpy as np\n",
    "import pickle\n",
    "\n",
    "# This is the Crossing game environment\n",
    "from teams_env import CrossingEnv\n",
    "from teams_model import *\n",
    "from interface import *\n",
    "\n",
    "import matplotlib.pyplot as plt\n",
    "\n",
    "%matplotlib inline\n",
    "plt.rcParams['figure.figsize'] = (10.0, 8.0) # set default size of plots\n",
    "plt.rcParams['image.interpolation'] = 'nearest'\n",
    "plt.rcParams['image.cmap'] = 'gray'\n",
    "\n",
    "# for auto-reloading external modules\n",
    "# see http://stackoverflow.com/questions/1907993/autoreload-of-modules-in-ipython\n",
    "%load_ext autoreload\n",
    "%autoreload 2\n",
    "\n",
    "print(\"Python version: \", platform.python_version())\n",
    "print(\"Pytorch version: {}\".format(torch.__version__))\n",
    "print(\"OpenAI Gym version: {}\".format(gym.__version__))"
   ]
  },
  {
   "cell_type": "code",
   "execution_count": 3,
   "metadata": {},
   "outputs": [],
   "source": [
    "model_files = [\n",
    "    \"models/1T-10L/baseline/food_d37/pacifist/t1.0_rp-1.0_300gs/MA0_Crossing_ep1000.p\",\n",
    "    \"models/1T-10L/baseline/food_d37/pacifist/t1.0_rp-1.0_300gs/MA1_Crossing_ep1000.p\",\n",
    "    \"models/1T-10L/baseline/food_d37/pacifist/t1.0_rp-1.0_300gs/MA2_Crossing_ep1000.p\",\n",
    "    \"models/1T-10L/baseline/food_d37/pacifist/t1.0_rp-1.0_300gs/MA3_Crossing_ep1000.p\",\n",
    "    \"models/1T-10L/baseline/food_d37/pacifist/t1.0_rp-1.0_300gs/MA4_Crossing_ep1000.p\",\n",
    "    \"models/1T-10L/baseline/food_d37/pacifist/t1.0_rp-1.0_300gs/MA5_Crossing_ep1000.p\",\n",
    "    \"models/1T-10L/baseline/food_d37/pacifist/t1.0_rp-1.0_300gs/MA6_Crossing_ep1000.p\",\n",
    "    \"models/1T-10L/baseline/food_d37/pacifist/t1.0_rp-1.0_300gs/MA7_Crossing_ep1000.p\",\n",
    "    \"models/1T-10L/baseline/food_d37/pacifist/t1.0_rp-1.0_300gs/MA8_Crossing_ep1000.p\",\n",
    "    \"models/1T-10L/baseline/food_d37/pacifist/t1.0_rp-1.0_300gs/MA9_Crossing_ep1000.p\"\n",
    "]\n",
    "\n",
    "i = 0\n",
    "for model_file in model_files:\n",
    "    with open(model_file, 'rb') as f:\n",
    "        # Model File include both model and optim parameters\n",
    "        saved_model, _ = pickle.load(f)\n",
    "    PATH = \"models/new/MA\" + \"{}\".format(i) +\"_Crossing_ep1000.p\"\n",
    "    torch.save(saved_model.state_dict(), PATH)\n",
    "    i += 1"
   ]
  },
  {
   "cell_type": "code",
   "execution_count": 6,
   "metadata": {},
   "outputs": [
    {
     "name": "stdout",
     "output_type": "stream",
     "text": [
      "Policy(\n",
      "  (features): Sequential(\n",
      "    (0): Conv2d(7, 16, kernel_size=(3, 3), stride=(1, 1), padding=(1, 1))\n",
      "    (1): BatchNorm2d(16, eps=1e-05, momentum=0.1, affine=True, track_running_stats=True)\n",
      "    (2): ReLU(inplace)\n",
      "    (3): Conv2d(16, 16, kernel_size=(4, 4), stride=(2, 2), padding=(1, 1))\n",
      "    (4): BatchNorm2d(16, eps=1e-05, momentum=0.1, affine=True, track_running_stats=True)\n",
      "    (5): ReLU(inplace)\n",
      "    (6): Conv2d(16, 16, kernel_size=(3, 3), stride=(1, 1))\n",
      "    (7): BatchNorm2d(16, eps=1e-05, momentum=0.1, affine=True, track_running_stats=True)\n",
      "    (8): ReLU(inplace)\n",
      "  )\n",
      "  (action_head): Linear(in_features=384, out_features=8, bias=True)\n",
      ")\n"
     ]
    }
   ],
   "source": [
    "print (saved_model )"
   ]
  },
  {
   "cell_type": "code",
   "execution_count": 4,
   "metadata": {},
   "outputs": [
    {
     "data": {
      "text/plain": [
       "Policy(\n",
       "  (features): Sequential(\n",
       "    (0): Conv2d(7, 16, kernel_size=(3, 3), stride=(1, 1), padding=(1, 1))\n",
       "    (1): BatchNorm2d(16, eps=1e-05, momentum=0.1, affine=True, track_running_stats=True)\n",
       "    (2): ReLU(inplace)\n",
       "    (3): Conv2d(16, 16, kernel_size=(4, 4), stride=(2, 2), padding=(1, 1))\n",
       "    (4): BatchNorm2d(16, eps=1e-05, momentum=0.1, affine=True, track_running_stats=True)\n",
       "    (5): ReLU(inplace)\n",
       "    (6): Conv2d(16, 16, kernel_size=(3, 3), stride=(1, 1))\n",
       "    (7): BatchNorm2d(16, eps=1e-05, momentum=0.1, affine=True, track_running_stats=True)\n",
       "    (8): ReLU(inplace)\n",
       "  )\n",
       "  (action_head): Linear(in_features=384, out_features=8, bias=True)\n",
       ")"
      ]
     },
     "execution_count": 4,
     "metadata": {},
     "output_type": "execute_result"
    }
   ],
   "source": [
    "PATH = \"models/new/MA0_Crossing_ep1000.p\"\n",
    "num_frames = 7\n",
    "num_actions = 8  \n",
    "\n",
    "agent = Policy(num_frames, num_actions, 0)\n",
    "agent.load_state_dict(torch.load(PATH))\n",
    "agent.eval()"
   ]
  },
  {
   "cell_type": "code",
   "execution_count": null,
   "metadata": {},
   "outputs": [],
   "source": []
  }
 ],
 "metadata": {
  "kernelspec": {
   "display_name": "Python [default]",
   "language": "python",
   "name": "python3"
  },
  "language_info": {
   "codemirror_mode": {
    "name": "ipython",
    "version": 3
   },
   "file_extension": ".py",
   "mimetype": "text/x-python",
   "name": "python",
   "nbconvert_exporter": "python",
   "pygments_lexer": "ipython3",
   "version": "3.6.4"
  }
 },
 "nbformat": 4,
 "nbformat_minor": 2
}
